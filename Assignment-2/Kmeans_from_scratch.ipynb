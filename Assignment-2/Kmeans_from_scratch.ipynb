{
 "cells": [
  {
   "cell_type": "code",
   "execution_count": 1,
   "metadata": {
    "id": "v1OuKet2HekY"
   },
   "outputs": [],
   "source": [
    "import os\n",
    "import pandas as pd\n",
    "import numpy as np\n",
    "import matplotlib.pyplot as plt\n",
    "import math\n",
    "from sklearn.metrics import accuracy_score"
   ]
  },
  {
   "cell_type": "code",
   "execution_count": 81,
   "metadata": {
    "colab": {
     "base_uri": "https://localhost:8080/"
    },
    "id": "1aOIMXgRIkqF",
    "outputId": "2914b39c-87ef-4b8a-c43b-044cac8e1afe"
   },
   "outputs": [
    {
     "name": "stdout",
     "output_type": "stream",
     "text": [
      "Archive:  /content/nls_data.zip\n",
      "replace /content/nls_data/nls_data/class1.txt? [y]es, [n]o, [A]ll, [N]one, [r]ename: "
     ]
    }
   ],
   "source": [
    "!unzip /content/nls_data.zip -d /content/nls_data"
   ]
  },
  {
   "cell_type": "code",
   "execution_count": 9,
   "metadata": {
    "colab": {
     "base_uri": "https://localhost:8080/"
    },
    "id": "A_dlOLIAHSZ0",
    "outputId": "bb3917c7-2008-4a92-8c16-2a07a664a57c"
   },
   "outputs": [
    {
     "name": "stdout",
     "output_type": "stream",
     "text": [
      "D:/Sujeet_PhD/Course_Work/Pattern Recognition/Assignment/Assignment-2/nls_data/\n",
      "['D:/Sujeet_PhD/Course_Work/Pattern Recognition/Assignment/Assignment-2/nls_data/class1.txt', 'D:/Sujeet_PhD/Course_Work/Pattern Recognition/Assignment/Assignment-2/nls_data/class2.txt']\n"
     ]
    }
   ],
   "source": [
    "path = \"D:/Sujeet_PhD/Course_Work/Pattern Recognition/Assignment/Assignment-2/nls_data/\"\n",
    "# os.chdir(path)\n",
    "files = []\n",
    "for file in os.listdir(path):\n",
    "    if file.endswith(\".txt\"):\n",
    "        files.append(os.path.join(path, file))\n",
    "print(path)\n",
    "print(files)"
   ]
  },
  {
   "cell_type": "code",
   "execution_count": 10,
   "metadata": {
    "id": "g1uRV1J9HSXJ"
   },
   "outputs": [],
   "source": [
    "## Split  the training and tesing data ##\n",
    "def get_data(dataset):\n",
    "    train = dataset.sample(frac=0.80, random_state=100)\n",
    "    test = dataset[~dataset.index.isin(train.index)]\n",
    "    return train, test"
   ]
  },
  {
   "cell_type": "code",
   "execution_count": 11,
   "metadata": {
    "id": "gpUlgYiEHSQK"
   },
   "outputs": [],
   "source": [
    "trainl_data = pd.DataFrame(columns=['X', 'Y', 'label'])\n",
    "testl_data = pd.DataFrame(columns=['X', 'Y', 'label'])\n",
    "alldata_l = pd.DataFrame(columns=['X', 'Y', 'label'])"
   ]
  },
  {
   "cell_type": "code",
   "execution_count": 12,
   "metadata": {
    "colab": {
     "base_uri": "https://localhost:8080/"
    },
    "id": "KPauyCXyHSGa",
    "outputId": "d65063e0-2aea-421e-ca72-9563101400fb"
   },
   "outputs": [
    {
     "name": "stdout",
     "output_type": "stream",
     "text": [
      "0\n",
      "1\n"
     ]
    }
   ],
   "source": [
    "for file, i in zip(files, range(len(files))):\n",
    "    data = pd.read_csv(file, header=None)\n",
    "    data.rename(columns = {0:'X', 1:'Y'}, inplace = True)\n",
    "    print(i)\n",
    "    data['label'] = [i for _ in range(data.shape[0])]\n",
    "    data=data.sample(frac=1).reset_index(drop=True)\n",
    "    ### Split data in training and test dataset\n",
    "    temp_train, temp_test = get_data(data)\n",
    "    trainl_data = trainl_data.append(temp_train)\n",
    "    testl_data = testl_data.append(temp_test)\n",
    "    alldata_l = alldata_l.append(data)"
   ]
  },
  {
   "cell_type": "code",
   "execution_count": 13,
   "metadata": {
    "id": "B9fgr0GRTH79"
   },
   "outputs": [],
   "source": [
    "import numpy as np\n",
    "import pandas as pd\n",
    "import matplotlib.pyplot as plt\n",
    "import seaborn as sns\n",
    "import warnings\n",
    "warnings.filterwarnings('ignore')"
   ]
  },
  {
   "cell_type": "code",
   "execution_count": 14,
   "metadata": {
    "colab": {
     "base_uri": "https://localhost:8080/",
     "height": 282
    },
    "id": "uvP_VzvXUM_l",
    "outputId": "36ec291b-cd78-4a9a-c04d-bb21ebd2d0eb"
   },
   "outputs": [
    {
     "data": {
      "image/png": "[encoded data removed]",
      "text/plain": [
       "<Figure size 432x288 with 1 Axes>"
      ]
     },
     "metadata": {
      "needs_background": "light"
     },
     "output_type": "display_data"
    }
   ],
   "source": [
    "sns.scatterplot(trainl_data.loc[trainl_data.label==0]['X'].to_numpy(),trainl_data.loc[trainl_data.label==0]['Y'],s=5,color='red')\n",
    "sns.scatterplot(trainl_data.loc[trainl_data.label==1]['X'].to_numpy(),trainl_data.loc[trainl_data.label==1]['Y'],s=5,color='green')\n",
    "plt.xlabel('feature-1')\n",
    "plt.ylabel('feature-2')\n",
    "plt.show()"
   ]
  },
  {
   "cell_type": "code",
   "execution_count": 15,
   "metadata": {
    "colab": {
     "base_uri": "https://localhost:8080/"
    },
    "id": "bjMpcF669IWa",
    "outputId": "5472610d-5469-44ad-acd8-848fe13b95e0"
   },
   "outputs": [
    {
     "name": "stdout",
     "output_type": "stream",
     "text": [
      "249   -0.17474\n",
      "353   -0.98303\n",
      "537    0.19247\n",
      "424    4.06620\n",
      "564    4.10060\n",
      "        ...   \n",
      "575    3.16040\n",
      "514    4.46690\n",
      "945   -1.40420\n",
      "647   -0.56308\n",
      "722    1.05570\n",
      "Name: X, Length: 800, dtype: float64\n"
     ]
    }
   ],
   "source": [
    "print(trainl_data.loc[trainl_data.label==0]['X'])"
   ]
  },
  {
   "cell_type": "code",
   "execution_count": 16,
   "metadata": {
    "id": "tbL5746BAgMY"
   },
   "outputs": [],
   "source": [
    "train_data= trainl_data.loc[:,['X','Y']].values\n",
    "test_data= testl_data.loc[:,['X','Y']].values\n",
    "alldata= alldata_l.loc[:,['X','Y']].values"
   ]
  },
  {
   "cell_type": "markdown",
   "metadata": {
    "id": "H8g_fAVpYadu"
   },
   "source": [
    "## K-Means"
   ]
  },
  {
   "cell_type": "markdown",
   "metadata": {
    "id": "fu7y5YGOqlGE"
   },
   "source": [
    "### WCSS"
   ]
  },
  {
   "cell_type": "code",
   "execution_count": 17,
   "metadata": {
    "id": "-SCvmqLvgypa"
   },
   "outputs": [],
   "source": [
    "def calculate_cost(X, centroids, cluster):\n",
    "  sum = 0\n",
    "  for i, val in enumerate(X):\n",
    "      sum += np.sqrt((centroids[int(cluster[i]), 0]-val[0])**2 + (centroids[int(cluster[i]), 1]-val[1])**2)\n",
    "  \n",
    "  return sum"
   ]
  },
  {
   "cell_type": "code",
   "execution_count": 18,
   "metadata": {
    "colab": {
     "base_uri": "https://localhost:8080/"
    },
    "id": "Xt0TviMpATgf",
    "outputId": "d139d603-b4d5-4e54-e2b9-c129e36fd96a"
   },
   "outputs": [
    {
     "data": {
      "text/plain": [
       "1600"
      ]
     },
     "execution_count": 18,
     "metadata": {},
     "output_type": "execute_result"
    }
   ],
   "source": [
    "len(train_data)"
   ]
  },
  {
   "cell_type": "code",
   "execution_count": 30,
   "metadata": {
    "id": "bbgIf_X2pA8n"
   },
   "outputs": [],
   "source": [
    "import random\n",
    "def kmeans(X, k):\n",
    "  \n",
    "  diff = 1\n",
    "  cluster = np.zeros(X.shape[0])\n",
    "\n",
    "  # select k random centroids\n",
    "  random_indices = np.random.choice(len(X), size=k, replace=False)\n",
    "  centroids = X[random_indices, :]\n",
    "\n",
    "  while diff:\n",
    "\n",
    "    # for each observation\n",
    "    for i, row in enumerate(X):\n",
    "\n",
    "      mn_dist = float('inf')\n",
    "      # dist of the point from all centroids\n",
    "      for idx, centroid in enumerate(centroids):\n",
    "        d = np.sqrt((centroid[0]-row[0])**2 + (centroid[1]-row[1])**2)\n",
    "\n",
    "        # store closest centroid \n",
    "        if mn_dist > d:\n",
    "          mn_dist = d\n",
    "          cluster[i] = idx\n",
    "\n",
    "    new_centroids = pd.DataFrame(X).groupby(by=cluster).mean().values\n",
    "\n",
    "    # if centroids are same then leave\n",
    "    if np.count_nonzero(centroids-new_centroids) == 0:\n",
    "      diff = 0\n",
    "    else:\n",
    "      centroids = new_centroids\n",
    "  return centroids, cluster  "
   ]
  },
  {
   "cell_type": "code",
   "execution_count": 33,
   "metadata": {
    "id": "bfr41sNYlYgO"
   },
   "outputs": [],
   "source": [
    "k = 20\n",
    "centroids, cluster = kmeans(train_data, k)"
   ]
  },
  {
   "cell_type": "code",
   "execution_count": 34,
   "metadata": {
    "colab": {
     "base_uri": "https://localhost:8080/",
     "height": 282
    },
    "id": "5_JxeS2uoZin",
    "outputId": "d99c7610-6e12-4480-8a11-8940685caf3a"
   },
   "outputs": [
    {
     "data": {
      "image/png": "[encoded data removed]",
      "text/plain": [
       "<Figure size 432x288 with 1 Axes>"
      ]
     },
     "metadata": {
      "needs_background": "light"
     },
     "output_type": "display_data"
    }
   ],
   "source": [
    "sns.scatterplot(train_data[:,0], train_data[:, 1], hue=cluster)\n",
    "sns.scatterplot(centroids[:,0], centroids[:, 1], s=100, color='r')\n",
    "\n",
    "plt.xlabel('feature-1')\n",
    "plt.ylabel('feature-2')\n",
    "plt.show()"
   ]
  },
  {
   "cell_type": "code",
   "execution_count": 22,
   "metadata": {
    "id": "osRLoLVdqKgT"
   },
   "outputs": [],
   "source": [
    "#Test Data\n",
    "def predict(Y):\n",
    "  cluster_test = np.zeros(Y.shape[0])\n",
    "  for i, row in enumerate(Y):\n",
    "\n",
    "      mn_dist = float('inf')\n",
    "      # dist of the point from all centroids\n",
    "      for idx, centroid in enumerate(centroids):\n",
    "        d = np.sqrt((centroid[0]-row[0])**2 + (centroid[1]-row[1])**2)\n",
    "\n",
    "        # store closest centroid \n",
    "        if mn_dist > d:\n",
    "          mn_dist = d\n",
    "          cluster_test[i] = idx\n",
    "  return cluster_test\n"
   ]
  },
  {
   "cell_type": "code",
   "execution_count": 23,
   "metadata": {
    "id": "YLseY3TrG-KR"
   },
   "outputs": [],
   "source": [
    "Y_pred = predict(test_data)"
   ]
  },
  {
   "cell_type": "code",
   "execution_count": 24,
   "metadata": {
    "colab": {
     "base_uri": "https://localhost:8080/"
    },
    "id": "4cUjZgYXHILS",
    "outputId": "4829b376-aed9-4f3f-df0e-5b092a6ac578"
   },
   "outputs": [
    {
     "name": "stdout",
     "output_type": "stream",
     "text": [
      "[1. 1. 0. 1. 1. 1. 1. 1. 1. 0. 1. 1. 1. 1. 0. 1. 1. 1. 1. 1. 1. 1. 1. 1.\n",
      " 1. 1. 1. 1. 1. 0. 1. 1. 1. 1. 1. 1. 1. 1. 1. 1. 0. 1. 1. 1. 1. 1. 1. 1.\n",
      " 1. 1. 1. 1. 1. 1. 1. 1. 1. 1. 1. 1. 1. 1. 1. 1. 1. 1. 1. 1. 1. 1. 1. 1.\n",
      " 1. 1. 1. 1. 1. 1. 1. 1. 1. 1. 1. 1. 1. 1. 1. 1. 1. 1. 1. 1. 1. 1. 1. 1.\n",
      " 0. 1. 1. 1. 1. 1. 1. 1. 1. 1. 1. 1. 1. 1. 1. 0. 1. 1. 0. 1. 1. 1. 1. 1.\n",
      " 1. 1. 1. 1. 1. 1. 1. 0. 1. 1. 1. 1. 1. 1. 1. 0. 1. 1. 1. 1. 1. 1. 1. 1.\n",
      " 1. 1. 1. 1. 1. 1. 1. 1. 1. 1. 1. 1. 1. 1. 1. 1. 1. 1. 1. 0. 0. 1. 1. 0.\n",
      " 1. 1. 0. 1. 1. 1. 1. 1. 1. 0. 1. 1. 1. 1. 1. 1. 1. 1. 1. 1. 1. 1. 1. 1.\n",
      " 1. 1. 1. 1. 1. 1. 1. 1. 0. 0. 0. 0. 0. 0. 0. 0. 0. 0. 1. 0. 0. 0. 0. 0.\n",
      " 0. 0. 0. 0. 0. 0. 0. 0. 0. 0. 0. 0. 0. 1. 0. 0. 1. 0. 0. 0. 0. 0. 0. 0.\n",
      " 0. 0. 0. 0. 0. 0. 0. 0. 0. 0. 0. 0. 0. 0. 0. 0. 1. 0. 0. 0. 0. 0. 0. 0.\n",
      " 0. 0. 0. 0. 0. 0. 0. 0. 0. 0. 0. 0. 0. 1. 0. 0. 0. 0. 0. 0. 0. 0. 0. 0.\n",
      " 0. 0. 0. 0. 0. 0. 0. 0. 0. 0. 0. 0. 0. 0. 0. 0. 0. 0. 0. 0. 0. 0. 0. 0.\n",
      " 0. 1. 0. 0. 0. 0. 1. 0. 0. 0. 0. 0. 0. 0. 0. 0. 0. 0. 0. 0. 0. 0. 0. 0.\n",
      " 0. 0. 0. 0. 0. 0. 0. 1. 0. 0. 0. 0. 0. 0. 0. 0. 0. 0. 0. 0. 1. 0. 0. 0.\n",
      " 0. 0. 0. 1. 0. 0. 0. 0. 0. 0. 0. 0. 0. 0. 0. 0. 0. 0. 0. 0. 0. 0. 0. 0.\n",
      " 1. 0. 0. 0. 0. 0. 0. 0. 0. 0. 0. 0. 1. 1. 0. 0.]\n"
     ]
    }
   ],
   "source": [
    "print(Y_pred)"
   ]
  },
  {
   "cell_type": "code",
   "execution_count": 25,
   "metadata": {
    "colab": {
     "base_uri": "https://localhost:8080/"
    },
    "id": "_HGVq72nK1i5",
    "outputId": "60465333-50bd-4e1f-a35d-779ab79deb7d"
   },
   "outputs": [
    {
     "name": "stdout",
     "output_type": "stream",
     "text": [
      "    label\n",
      "0       0\n",
      "2       0\n",
      "4       0\n",
      "13      0\n",
      "14      0\n",
      "..    ...\n",
      "986     1\n",
      "987     1\n",
      "988     1\n",
      "992     1\n",
      "997     1\n",
      "\n",
      "[400 rows x 1 columns]\n"
     ]
    }
   ],
   "source": [
    "print(testl_data.loc[:,['label']])"
   ]
  },
  {
   "cell_type": "code",
   "execution_count": null,
   "metadata": {},
   "outputs": [],
   "source": []
  },
  {
   "cell_type": "code",
   "execution_count": null,
   "metadata": {},
   "outputs": [],
   "source": []
  }
 ],
 "metadata": {
  "colab": {
   "collapsed_sections": [],
   "name": "Kmeans_from_scratch.ipynb",
   "provenance": []
  },
  "kernelspec": {
   "display_name": "Python 3",
   "language": "python",
   "name": "python3"
  },
  "language_info": {
   "codemirror_mode": {
    "name": "ipython",
    "version": 3
   },
   "file_extension": ".py",
   "mimetype": "text/x-python",
   "name": "python",
   "nbconvert_exporter": "python",
   "pygments_lexer": "ipython3",
   "version": "3.8.8"
  }
 },
 "nbformat": 4,
 "nbformat_minor": 1
}
